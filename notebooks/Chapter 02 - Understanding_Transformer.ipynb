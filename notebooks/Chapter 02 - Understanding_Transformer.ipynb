{
  "nbformat": 4,
  "nbformat_minor": 0,
  "metadata": {
    "colab": {
      "provenance": [],
      "gpuType": "T4",
      "include_colab_link": true
    },
    "kernelspec": {
      "name": "python3",
      "display_name": "Python 3"
    },
    "language_info": {
      "name": "python"
    },
    "accelerator": "GPU"
  },
  "cells": [
    {
      "cell_type": "markdown",
      "metadata": {
        "id": "view-in-github",
        "colab_type": "text"
      },
      "source": [
        "<a href=\"https://colab.research.google.com/github/ezerdavid/LLM-for-production/blob/main/notebooks/Chapter%2002%20-%20Understanding_Transformer.ipynb\" target=\"_parent\"><img src=\"https://colab.research.google.com/assets/colab-badge.svg\" alt=\"Open In Colab\"/></a>"
      ]
    },
    {
      "cell_type": "code",
      "execution_count": 1,
      "metadata": {
        "colab": {
          "base_uri": "https://localhost:8080/"
        },
        "id": "zHWLdTNEHzcJ",
        "outputId": "5fb1edc6-463c-4c23-de7a-16d5584639bf"
      },
      "outputs": [
        {
          "output_type": "stream",
          "name": "stdout",
          "text": [
            "\u001b[2K   \u001b[90m━━━━━━━━━━━━━━━━━━━━━━━━━━━━━━━━━━━━━━━━\u001b[0m \u001b[32m61.3/61.3 MB\u001b[0m \u001b[31m12.4 MB/s\u001b[0m eta \u001b[36m0:00:00\u001b[0m\n",
            "\u001b[?25h"
          ]
        }
      ],
      "source": [
        "!pip install -q transformers accelerate bitsandbytes"
      ]
    },
    {
      "cell_type": "code",
      "source": [
        "from transformers import AutoModelForCausalLM, AutoTokenizer"
      ],
      "metadata": {
        "id": "1n-_I7pSJCpm"
      },
      "execution_count": 2,
      "outputs": []
    },
    {
      "cell_type": "code",
      "source": [
        "OPT = AutoModelForCausalLM.from_pretrained(\"facebook/opt-1.3b\", load_in_8bit=True)"
      ],
      "metadata": {
        "colab": {
          "base_uri": "https://localhost:8080/",
          "height": 267,
          "referenced_widgets": [
            "48af6688fc5640adb01b977adc245591",
            "87e9db922f3d41b7a8382ca5984a4da0",
            "1506347e138f42aba4ee26a821c03d22",
            "b173571e850846c895d1978b4a26c95b",
            "5b22f2dd327645119a480bbcc0317653",
            "a4b66d25bd3e4698a716a4ee1a371326",
            "5cd3f98b9e3840729080003e46b03436",
            "544fa38ab06149d6b8a062139140f60d",
            "20418e898d2b47a6818f603e820ac571",
            "c20bc84f0ad848f99321959fbecf792c",
            "fc52ab489cd3479fae107ff824cb9753",
            "29db88d8ff564110a998e0d37a163a32",
            "6de3760ec4ad485f9d47db11f81ef4e2",
            "f8b8e6623d5f40a08ff49cbcc2ef2af1",
            "8e0a12c607c04d0b8211b681b417ab86",
            "66721a748a2c405cb30ed57cc46ec882",
            "75576f3cbf324c6fb96f0330fd894e13",
            "fa41bc7c5e024ce2b95ce245e2cae6ab",
            "e04f42672e3b45fb9debef4db94029c8",
            "52d565ff39824c8b82e6bb4133318dac",
            "35591c23d26b4ccbb08e7f838e8ca3de",
            "fe164e2152cc48888f01fe45da9fa1b3",
            "adb88d725f9f41b79cfd466af1a168e6",
            "a18ce66b21b14948aabd7eec27d19ba3",
            "e47c21e5605e4fc7b58bcef4634880b7",
            "754ec9d382ff405dbe5c607a17f8a684",
            "de4b015b29954bac8df2cfb211525aad",
            "5c09aa9398d64c8a8d2ffb04216113be",
            "1f1cb2f7516a434eb95c98da63e581f3",
            "e01a33ee4e914a8c920adb994dc59f65",
            "4834a894e36a405fbc6ee693ffd3cd4d",
            "33419506d4c8451b89d3eabef0287ebe",
            "c1461245fd334ce995abee43ef15ac7d",
            "9d076b2e6a9a437598a189996f40fea4",
            "d6fe30d49a7d4eb7b99aa761d4da484f",
            "d63effdce9f74e24b23fce5c7784be18",
            "6acbdd5542f64694b4225c4ec316fa10",
            "38a1d3ff32b44c9393f24a6eabf6a012",
            "abcd6abc220a4f69a93f76e12813d74d",
            "e99df55e45b949c892ab88930c0bc1c5",
            "b11665e4d1d848fdbef42ff64a72fb7d",
            "3cbca88be0804c138b3b117ea0bdf0ef",
            "1adcc6513857425b87a3ecb4454388cf",
            "0fc01098b7cd4bb7a2e0ac16db0105fb"
          ]
        },
        "id": "_GpmyKUlJvX-",
        "outputId": "bf0214fe-f537-425d-c09c-f6ea028ead0b"
      },
      "execution_count": 3,
      "outputs": [
        {
          "output_type": "stream",
          "name": "stderr",
          "text": [
            "/usr/local/lib/python3.12/dist-packages/huggingface_hub/utils/_auth.py:94: UserWarning: \n",
            "The secret `HF_TOKEN` does not exist in your Colab secrets.\n",
            "To authenticate with the Hugging Face Hub, create a token in your settings tab (https://huggingface.co/settings/tokens), set it as secret in your Google Colab and restart your session.\n",
            "You will be able to reuse this secret in all of your notebooks.\n",
            "Please note that authentication is recommended but still optional to access public models or datasets.\n",
            "  warnings.warn(\n"
          ]
        },
        {
          "output_type": "display_data",
          "data": {
            "text/plain": [
              "config.json:   0%|          | 0.00/653 [00:00<?, ?B/s]"
            ],
            "application/vnd.jupyter.widget-view+json": {
              "version_major": 2,
              "version_minor": 0,
              "model_id": "48af6688fc5640adb01b977adc245591"
            }
          },
          "metadata": {}
        },
        {
          "output_type": "stream",
          "name": "stderr",
          "text": [
            "The `load_in_4bit` and `load_in_8bit` arguments are deprecated and will be removed in the future versions. Please, pass a `BitsAndBytesConfig` object in `quantization_config` argument instead.\n"
          ]
        },
        {
          "output_type": "display_data",
          "data": {
            "text/plain": [
              "pytorch_model.bin:   0%|          | 0.00/2.63G [00:00<?, ?B/s]"
            ],
            "application/vnd.jupyter.widget-view+json": {
              "version_major": 2,
              "version_minor": 0,
              "model_id": "29db88d8ff564110a998e0d37a163a32"
            }
          },
          "metadata": {}
        },
        {
          "output_type": "display_data",
          "data": {
            "text/plain": [
              "model.safetensors:   0%|          | 0.00/2.63G [00:00<?, ?B/s]"
            ],
            "application/vnd.jupyter.widget-view+json": {
              "version_major": 2,
              "version_minor": 0,
              "model_id": "adb88d725f9f41b79cfd466af1a168e6"
            }
          },
          "metadata": {}
        },
        {
          "output_type": "display_data",
          "data": {
            "text/plain": [
              "generation_config.json:   0%|          | 0.00/137 [00:00<?, ?B/s]"
            ],
            "application/vnd.jupyter.widget-view+json": {
              "version_major": 2,
              "version_minor": 0,
              "model_id": "9d076b2e6a9a437598a189996f40fea4"
            }
          },
          "metadata": {}
        }
      ]
    },
    {
      "cell_type": "code",
      "source": [
        "tokenizer = AutoTokenizer.from_pretrained(\"facebook/opt-1.3b\")"
      ],
      "metadata": {
        "colab": {
          "base_uri": "https://localhost:8080/",
          "height": 145,
          "referenced_widgets": [
            "bba088d2fab2453e8df65c438eb08395",
            "fbfc854900624fb196fee11f76eedb43",
            "5f4647fe44d84d7da9661bf8746694df",
            "aa68dc4cc1ba4123bdab10b761a258ba",
            "76eda29d5911499098477b4cc9e78569",
            "ae2cb9ac10f6410aa5a9af8f8384bce7",
            "3e1f26b2f5dc4099b84ae1a14b21ba4f",
            "97a1e9702cc44ca9bc19e5d50e7eb5ea",
            "71fed7202b4842ea9eaf59c2d1316ef5",
            "c4317f0a445344198c09a181eb1e2f63",
            "954a1bc0e5be49d5b5f32d1ffe459392",
            "9d791941e57b4624b5635fc0a12f2331",
            "df9bd8ff933541558736085f86f18f0a",
            "79bea5504d6344a0b4a46350d2873190",
            "5e60fd1a0e4141f1a9fc010f8138f58a",
            "b6f0a802a6bb4d11b8c8618cf1ae2168",
            "4f06c0f99b4e49eeb4beb4fcf4d4d7c8",
            "ff687a56e6ee4d4fb3b8a109c1f886f5",
            "c5bb207f68814b6b9a7f72e8ada1db99",
            "d5f7b8b5038a47aca563fe2bd9f151e6",
            "65bb1f6ef243460a98911b58af17bb7f",
            "a8e746160c2a4d2fa0134ba6d9f63319",
            "594c0b15f7ab4623964ba740e06f1dc1",
            "2537673bf13b426ebace33d3988cd974",
            "f152dc4773884304a05e0269cbb132a0",
            "55689ef88ca44ac187d1ee6d22078216",
            "9bce1b8f68854d41b31dfde4c04a31ec",
            "01ca73be75164499976d4b91897234db",
            "a11cece32fd649cd818d22bce03565b9",
            "3622c8362271464e8858f154c922da90",
            "d78a4491496d41f0b36deae52ed0dba8",
            "910594e1883c4f61a9153e8d05ae2b8a",
            "78d966fed6994689bb89a492c08a604f",
            "b881235260ab49a8b5d7453e488950dd",
            "870661eb044141fa9494c75408e27d77",
            "dee44f928ac24461901ca6be267f6753",
            "be8378e4a76f42e4814a13765421dac8",
            "8c0bd7ad592047de878dfd2456e1cc84",
            "e7bbddaad6834dd592e196f8909b4178",
            "693e9f74891948f3b04e3c3da6b7d597",
            "c5614e6e80194b5fb2b028272a812ab7",
            "dfa4c5f6c86a4e4b9a03a02e3d164d4c",
            "d873b52bb41044719d2cd5e1c9ff1679",
            "7996cbea43a745ea95fee1c7629b6a50"
          ]
        },
        "id": "xqswNQHBJ1jA",
        "outputId": "7cc066ca-da61-4f56-ca6a-47fa37706da5"
      },
      "execution_count": 4,
      "outputs": [
        {
          "output_type": "display_data",
          "data": {
            "text/plain": [
              "tokenizer_config.json:   0%|          | 0.00/685 [00:00<?, ?B/s]"
            ],
            "application/vnd.jupyter.widget-view+json": {
              "version_major": 2,
              "version_minor": 0,
              "model_id": "bba088d2fab2453e8df65c438eb08395"
            }
          },
          "metadata": {}
        },
        {
          "output_type": "display_data",
          "data": {
            "text/plain": [
              "vocab.json: 0.00B [00:00, ?B/s]"
            ],
            "application/vnd.jupyter.widget-view+json": {
              "version_major": 2,
              "version_minor": 0,
              "model_id": "9d791941e57b4624b5635fc0a12f2331"
            }
          },
          "metadata": {}
        },
        {
          "output_type": "display_data",
          "data": {
            "text/plain": [
              "merges.txt: 0.00B [00:00, ?B/s]"
            ],
            "application/vnd.jupyter.widget-view+json": {
              "version_major": 2,
              "version_minor": 0,
              "model_id": "594c0b15f7ab4623964ba740e06f1dc1"
            }
          },
          "metadata": {}
        },
        {
          "output_type": "display_data",
          "data": {
            "text/plain": [
              "special_tokens_map.json:   0%|          | 0.00/441 [00:00<?, ?B/s]"
            ],
            "application/vnd.jupyter.widget-view+json": {
              "version_major": 2,
              "version_minor": 0,
              "model_id": "b881235260ab49a8b5d7453e488950dd"
            }
          },
          "metadata": {}
        }
      ]
    },
    {
      "cell_type": "code",
      "source": [
        "inp = \"The quick brown fox jumps over the lazy dog\"\n",
        "inp_tokenized = tokenizer( inp, return_tensors=\"pt\" )\n",
        "print( inp_tokenized['input_ids'].size() )\n",
        "print( inp_tokenized )"
      ],
      "metadata": {
        "colab": {
          "base_uri": "https://localhost:8080/"
        },
        "id": "3RpmGfZmQBgV",
        "outputId": "b1a5f45b-8055-4c6d-935b-7cb6ca3e80da"
      },
      "execution_count": 5,
      "outputs": [
        {
          "output_type": "stream",
          "name": "stdout",
          "text": [
            "torch.Size([1, 10])\n",
            "{'input_ids': tensor([[    2,   133,  2119,  6219, 23602, 13855,    81,     5, 22414,  2335]]), 'attention_mask': tensor([[1, 1, 1, 1, 1, 1, 1, 1, 1, 1]])}\n"
          ]
        }
      ]
    },
    {
      "cell_type": "code",
      "source": [
        "print( OPT.model )"
      ],
      "metadata": {
        "colab": {
          "base_uri": "https://localhost:8080/"
        },
        "id": "TwYCI7nMFMUf",
        "outputId": "17d1addb-f352-422f-e22b-346a5f3c1791"
      },
      "execution_count": 8,
      "outputs": [
        {
          "output_type": "stream",
          "name": "stdout",
          "text": [
            "OPTModel(\n",
            "  (decoder): OPTDecoder(\n",
            "    (embed_tokens): Embedding(50272, 2048, padding_idx=1)\n",
            "    (embed_positions): OPTLearnedPositionalEmbedding(2050, 2048)\n",
            "    (final_layer_norm): LayerNorm((2048,), eps=1e-05, elementwise_affine=True)\n",
            "    (layers): ModuleList(\n",
            "      (0-23): 24 x OPTDecoderLayer(\n",
            "        (self_attn): OPTAttention(\n",
            "          (k_proj): Linear8bitLt(in_features=2048, out_features=2048, bias=True)\n",
            "          (v_proj): Linear8bitLt(in_features=2048, out_features=2048, bias=True)\n",
            "          (q_proj): Linear8bitLt(in_features=2048, out_features=2048, bias=True)\n",
            "          (out_proj): Linear8bitLt(in_features=2048, out_features=2048, bias=True)\n",
            "        )\n",
            "        (activation_fn): ReLU()\n",
            "        (self_attn_layer_norm): LayerNorm((2048,), eps=1e-05, elementwise_affine=True)\n",
            "        (fc1): Linear8bitLt(in_features=2048, out_features=8192, bias=True)\n",
            "        (fc2): Linear8bitLt(in_features=8192, out_features=2048, bias=True)\n",
            "        (final_layer_norm): LayerNorm((2048,), eps=1e-05, elementwise_affine=True)\n",
            "      )\n",
            "    )\n",
            "  )\n",
            ")\n"
          ]
        }
      ]
    },
    {
      "cell_type": "code",
      "source": [
        "embedded_input = OPT.model.decoder.embed_tokens(inp_tokenized['input_ids'].cuda())\n",
        "print( \"Layer:\\t\", OPT.model.decoder.embed_tokens )\n",
        "print( \"Size:\\t\", embedded_input.size() )\n",
        "print( \"Output:\\t\", embedded_input )"
      ],
      "metadata": {
        "colab": {
          "base_uri": "https://localhost:8080/"
        },
        "id": "fP7XHh_JNsyC",
        "outputId": "a9c8adbb-7c9f-47e1-e896-93d26a1c8538"
      },
      "execution_count": 11,
      "outputs": [
        {
          "output_type": "stream",
          "name": "stdout",
          "text": [
            "Layer:\t Embedding(50272, 2048, padding_idx=1)\n",
            "Size:\t torch.Size([1, 10, 2048])\n",
            "Output:\t tensor([[[-0.0407,  0.0519,  0.0574,  ..., -0.0263, -0.0355, -0.0260],\n",
            "         [-0.0371,  0.0220, -0.0096,  ...,  0.0265, -0.0166, -0.0030],\n",
            "         [-0.0455, -0.0236, -0.0121,  ...,  0.0043, -0.0166,  0.0193],\n",
            "         ...,\n",
            "         [ 0.0007,  0.0267,  0.0257,  ...,  0.0622,  0.0421,  0.0279],\n",
            "         [-0.0126,  0.0347, -0.0352,  ..., -0.0393, -0.0396, -0.0102],\n",
            "         [-0.0115,  0.0319,  0.0274,  ..., -0.0472, -0.0059,  0.0341]]],\n",
            "       device='cuda:0', dtype=torch.float16, grad_fn=<EmbeddingBackward0>)\n"
          ]
        }
      ]
    },
    {
      "cell_type": "code",
      "source": [
        "embed_pos_input = OPT.model.decoder.embed_positions(inp_tokenized['attention_mask'].cuda())\n",
        "print( \"Layer:\\t\", OPT.model.decoder.embed_positions )\n",
        "print( \"Size:\\t\", embed_pos_input.size() )\n",
        "print( \"Output:\\t\", embed_pos_input )"
      ],
      "metadata": {
        "colab": {
          "base_uri": "https://localhost:8080/"
        },
        "id": "60FnrDpDQzk0",
        "outputId": "a7c2c2a3-500c-47a0-941c-9fb94a1b5496"
      },
      "execution_count": 12,
      "outputs": [
        {
          "output_type": "stream",
          "name": "stdout",
          "text": [
            "Layer:\t OPTLearnedPositionalEmbedding(2050, 2048)\n",
            "Size:\t torch.Size([1, 10, 2048])\n",
            "Output:\t tensor([[[-8.1406e-03, -2.6221e-01,  6.0768e-03,  ...,  1.7273e-02,\n",
            "          -5.0621e-03, -1.6220e-02],\n",
            "         [-8.0585e-05,  2.5000e-01, -1.6632e-02,  ..., -1.5419e-02,\n",
            "          -1.7838e-02,  2.4948e-02],\n",
            "         [-9.9411e-03, -1.4978e-01,  1.7557e-03,  ...,  3.7117e-03,\n",
            "          -1.6434e-02, -9.9087e-04],\n",
            "         ...,\n",
            "         [ 3.6979e-04, -7.7454e-02,  1.2955e-02,  ...,  3.9330e-03,\n",
            "          -1.1642e-02,  7.8506e-03],\n",
            "         [-2.6779e-03, -2.2446e-02, -1.6754e-02,  ..., -1.3142e-03,\n",
            "          -7.8583e-03,  2.0096e-02],\n",
            "         [-8.6288e-03,  1.4233e-01, -1.9012e-02,  ..., -1.8463e-02,\n",
            "          -9.8572e-03,  8.7662e-03]]], device='cuda:0', dtype=torch.float16,\n",
            "       grad_fn=<EmbeddingBackward0>)\n"
          ]
        }
      ]
    },
    {
      "cell_type": "code",
      "source": [
        "embed_position_input = embedded_input + embed_pos_input\n",
        "hidden_states, _ = OPT.model.decoder.layers[0].self_attn( embed_position_input )\n",
        "print( \"Layer:\\t\", OPT.model.decoder.layers[0].self_attn )\n",
        "print( \"Size:\\t\", hidden_states.size() )\n",
        "print( \"Output:\\t\", hidden_states )"
      ],
      "metadata": {
        "colab": {
          "base_uri": "https://localhost:8080/"
        },
        "id": "09W5HJusG9z2",
        "outputId": "db02e459-5750-444c-da87-cdeb4607a6eb"
      },
      "execution_count": 14,
      "outputs": [
        {
          "output_type": "stream",
          "name": "stdout",
          "text": [
            "Layer:\t OPTAttention(\n",
            "  (k_proj): Linear8bitLt(in_features=2048, out_features=2048, bias=True)\n",
            "  (v_proj): Linear8bitLt(in_features=2048, out_features=2048, bias=True)\n",
            "  (q_proj): Linear8bitLt(in_features=2048, out_features=2048, bias=True)\n",
            "  (out_proj): Linear8bitLt(in_features=2048, out_features=2048, bias=True)\n",
            ")\n",
            "Size:\t torch.Size([1, 10, 2048])\n",
            "Output:\t tensor([[[-0.0136, -0.0095,  0.0012,  ...,  0.0067, -0.0018,  0.0131],\n",
            "         [-0.0131, -0.0100,  0.0022,  ...,  0.0088,  0.0003,  0.0124],\n",
            "         [-0.0131, -0.0060,  0.0038,  ...,  0.0099,  0.0021,  0.0141],\n",
            "         ...,\n",
            "         [-0.0121, -0.0099,  0.0051,  ...,  0.0095,  0.0016,  0.0098],\n",
            "         [-0.0120, -0.0103,  0.0052,  ...,  0.0094,  0.0012,  0.0091],\n",
            "         [-0.0119, -0.0110,  0.0056,  ...,  0.0095,  0.0013,  0.0093]]],\n",
            "       device='cuda:0', dtype=torch.float16, grad_fn=<MatMul8bitLtBackward>)\n"
          ]
        }
      ]
    }
  ]
}
